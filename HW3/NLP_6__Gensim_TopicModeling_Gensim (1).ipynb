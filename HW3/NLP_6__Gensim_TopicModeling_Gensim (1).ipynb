{
  "nbformat": 4,
  "nbformat_minor": 0,
  "metadata": {
    "colab": {
      "name": "NLP_6__Gensim_TopicModeling_Gensim.ipynb",
      "provenance": [],
      "collapsed_sections": [],
      "toc_visible": true
    },
    "kernelspec": {
      "name": "python3",
      "display_name": "Python 3"
    },
    "widgets": {
      "application/vnd.jupyter.widget-state+json": {
        "cd02039713584e3b9ef718d4f8e3751b": {
          "model_module": "@jupyter-widgets/controls",
          "model_name": "HBoxModel",
          "state": {
            "_view_name": "HBoxView",
            "_dom_classes": [],
            "_model_name": "HBoxModel",
            "_view_module": "@jupyter-widgets/controls",
            "_model_module_version": "1.5.0",
            "_view_count": null,
            "_view_module_version": "1.5.0",
            "box_style": "",
            "layout": "IPY_MODEL_b9f16ff921044ad98d6ecfd4509d1c33",
            "_model_module": "@jupyter-widgets/controls",
            "children": [
              "IPY_MODEL_d873bf2d8f794760aa85621e6e7f7fff",
              "IPY_MODEL_c7e1dcc4c66c49f3acde666764a0e42c"
            ]
          }
        },
        "b9f16ff921044ad98d6ecfd4509d1c33": {
          "model_module": "@jupyter-widgets/base",
          "model_name": "LayoutModel",
          "state": {
            "_view_name": "LayoutView",
            "grid_template_rows": null,
            "right": null,
            "justify_content": null,
            "_view_module": "@jupyter-widgets/base",
            "overflow": null,
            "_model_module_version": "1.2.0",
            "_view_count": null,
            "flex_flow": null,
            "width": null,
            "min_width": null,
            "border": null,
            "align_items": null,
            "bottom": null,
            "_model_module": "@jupyter-widgets/base",
            "top": null,
            "grid_column": null,
            "overflow_y": null,
            "overflow_x": null,
            "grid_auto_flow": null,
            "grid_area": null,
            "grid_template_columns": null,
            "flex": null,
            "_model_name": "LayoutModel",
            "justify_items": null,
            "grid_row": null,
            "max_height": null,
            "align_content": null,
            "visibility": null,
            "align_self": null,
            "height": null,
            "min_height": null,
            "padding": null,
            "grid_auto_rows": null,
            "grid_gap": null,
            "max_width": null,
            "order": null,
            "_view_module_version": "1.2.0",
            "grid_template_areas": null,
            "object_position": null,
            "object_fit": null,
            "grid_auto_columns": null,
            "margin": null,
            "display": null,
            "left": null
          }
        },
        "d873bf2d8f794760aa85621e6e7f7fff": {
          "model_module": "@jupyter-widgets/controls",
          "model_name": "FloatProgressModel",
          "state": {
            "_view_name": "ProgressView",
            "style": "IPY_MODEL_c50b8afe5f4c438580c39ef4915fde56",
            "_dom_classes": [],
            "description": "100%",
            "_model_name": "FloatProgressModel",
            "bar_style": "success",
            "max": 4,
            "_view_module": "@jupyter-widgets/controls",
            "_model_module_version": "1.5.0",
            "value": 4,
            "_view_count": null,
            "_view_module_version": "1.5.0",
            "orientation": "horizontal",
            "min": 0,
            "description_tooltip": null,
            "_model_module": "@jupyter-widgets/controls",
            "layout": "IPY_MODEL_cdc83d8a96a0464d986e7adeba929cb7"
          }
        },
        "c7e1dcc4c66c49f3acde666764a0e42c": {
          "model_module": "@jupyter-widgets/controls",
          "model_name": "HTMLModel",
          "state": {
            "_view_name": "HTMLView",
            "style": "IPY_MODEL_75fee7c177cb472497d1fbc94811d8c8",
            "_dom_classes": [],
            "description": "",
            "_model_name": "HTMLModel",
            "placeholder": "​",
            "_view_module": "@jupyter-widgets/controls",
            "_model_module_version": "1.5.0",
            "value": " 4/4 [1:25:00&lt;00:00, 1275.20s/it]",
            "_view_count": null,
            "_view_module_version": "1.5.0",
            "description_tooltip": null,
            "_model_module": "@jupyter-widgets/controls",
            "layout": "IPY_MODEL_b2ab5f7ed54d417793a45d5aa01ac793"
          }
        },
        "c50b8afe5f4c438580c39ef4915fde56": {
          "model_module": "@jupyter-widgets/controls",
          "model_name": "ProgressStyleModel",
          "state": {
            "_view_name": "StyleView",
            "_model_name": "ProgressStyleModel",
            "description_width": "initial",
            "_view_module": "@jupyter-widgets/base",
            "_model_module_version": "1.5.0",
            "_view_count": null,
            "_view_module_version": "1.2.0",
            "bar_color": null,
            "_model_module": "@jupyter-widgets/controls"
          }
        },
        "cdc83d8a96a0464d986e7adeba929cb7": {
          "model_module": "@jupyter-widgets/base",
          "model_name": "LayoutModel",
          "state": {
            "_view_name": "LayoutView",
            "grid_template_rows": null,
            "right": null,
            "justify_content": null,
            "_view_module": "@jupyter-widgets/base",
            "overflow": null,
            "_model_module_version": "1.2.0",
            "_view_count": null,
            "flex_flow": null,
            "width": null,
            "min_width": null,
            "border": null,
            "align_items": null,
            "bottom": null,
            "_model_module": "@jupyter-widgets/base",
            "top": null,
            "grid_column": null,
            "overflow_y": null,
            "overflow_x": null,
            "grid_auto_flow": null,
            "grid_area": null,
            "grid_template_columns": null,
            "flex": null,
            "_model_name": "LayoutModel",
            "justify_items": null,
            "grid_row": null,
            "max_height": null,
            "align_content": null,
            "visibility": null,
            "align_self": null,
            "height": null,
            "min_height": null,
            "padding": null,
            "grid_auto_rows": null,
            "grid_gap": null,
            "max_width": null,
            "order": null,
            "_view_module_version": "1.2.0",
            "grid_template_areas": null,
            "object_position": null,
            "object_fit": null,
            "grid_auto_columns": null,
            "margin": null,
            "display": null,
            "left": null
          }
        },
        "75fee7c177cb472497d1fbc94811d8c8": {
          "model_module": "@jupyter-widgets/controls",
          "model_name": "DescriptionStyleModel",
          "state": {
            "_view_name": "StyleView",
            "_model_name": "DescriptionStyleModel",
            "description_width": "",
            "_view_module": "@jupyter-widgets/base",
            "_model_module_version": "1.5.0",
            "_view_count": null,
            "_view_module_version": "1.2.0",
            "_model_module": "@jupyter-widgets/controls"
          }
        },
        "b2ab5f7ed54d417793a45d5aa01ac793": {
          "model_module": "@jupyter-widgets/base",
          "model_name": "LayoutModel",
          "state": {
            "_view_name": "LayoutView",
            "grid_template_rows": null,
            "right": null,
            "justify_content": null,
            "_view_module": "@jupyter-widgets/base",
            "overflow": null,
            "_model_module_version": "1.2.0",
            "_view_count": null,
            "flex_flow": null,
            "width": null,
            "min_width": null,
            "border": null,
            "align_items": null,
            "bottom": null,
            "_model_module": "@jupyter-widgets/base",
            "top": null,
            "grid_column": null,
            "overflow_y": null,
            "overflow_x": null,
            "grid_auto_flow": null,
            "grid_area": null,
            "grid_template_columns": null,
            "flex": null,
            "_model_name": "LayoutModel",
            "justify_items": null,
            "grid_row": null,
            "max_height": null,
            "align_content": null,
            "visibility": null,
            "align_self": null,
            "height": null,
            "min_height": null,
            "padding": null,
            "grid_auto_rows": null,
            "grid_gap": null,
            "max_width": null,
            "order": null,
            "_view_module_version": "1.2.0",
            "grid_template_areas": null,
            "object_position": null,
            "object_fit": null,
            "grid_auto_columns": null,
            "margin": null,
            "display": null,
            "left": null
          }
        },
        "c4527e4fb66b4097ba38835438fbe2c3": {
          "model_module": "@jupyter-widgets/controls",
          "model_name": "HBoxModel",
          "state": {
            "_view_name": "HBoxView",
            "_dom_classes": [],
            "_model_name": "HBoxModel",
            "_view_module": "@jupyter-widgets/controls",
            "_model_module_version": "1.5.0",
            "_view_count": null,
            "_view_module_version": "1.5.0",
            "box_style": "",
            "layout": "IPY_MODEL_db143c6a261d42fab92599dd819057d7",
            "_model_module": "@jupyter-widgets/controls",
            "children": [
              "IPY_MODEL_9584fe782efc4f1981b6bf01cc4459a4",
              "IPY_MODEL_61b053262bc946c2af423b454f126d8e"
            ]
          }
        },
        "db143c6a261d42fab92599dd819057d7": {
          "model_module": "@jupyter-widgets/base",
          "model_name": "LayoutModel",
          "state": {
            "_view_name": "LayoutView",
            "grid_template_rows": null,
            "right": null,
            "justify_content": null,
            "_view_module": "@jupyter-widgets/base",
            "overflow": null,
            "_model_module_version": "1.2.0",
            "_view_count": null,
            "flex_flow": null,
            "width": null,
            "min_width": null,
            "border": null,
            "align_items": null,
            "bottom": null,
            "_model_module": "@jupyter-widgets/base",
            "top": null,
            "grid_column": null,
            "overflow_y": null,
            "overflow_x": null,
            "grid_auto_flow": null,
            "grid_area": null,
            "grid_template_columns": null,
            "flex": null,
            "_model_name": "LayoutModel",
            "justify_items": null,
            "grid_row": null,
            "max_height": null,
            "align_content": null,
            "visibility": null,
            "align_self": null,
            "height": null,
            "min_height": null,
            "padding": null,
            "grid_auto_rows": null,
            "grid_gap": null,
            "max_width": null,
            "order": null,
            "_view_module_version": "1.2.0",
            "grid_template_areas": null,
            "object_position": null,
            "object_fit": null,
            "grid_auto_columns": null,
            "margin": null,
            "display": null,
            "left": null
          }
        },
        "9584fe782efc4f1981b6bf01cc4459a4": {
          "model_module": "@jupyter-widgets/controls",
          "model_name": "FloatProgressModel",
          "state": {
            "_view_name": "ProgressView",
            "style": "IPY_MODEL_3fe2a748b42b4d2688369f1f303ef9d5",
            "_dom_classes": [],
            "description": "",
            "_model_name": "FloatProgressModel",
            "bar_style": "success",
            "max": 1,
            "_view_module": "@jupyter-widgets/controls",
            "_model_module_version": "1.5.0",
            "value": 1,
            "_view_count": null,
            "_view_module_version": "1.5.0",
            "orientation": "horizontal",
            "min": 0,
            "description_tooltip": null,
            "_model_module": "@jupyter-widgets/controls",
            "layout": "IPY_MODEL_70ae3bd0dc674d17b088d05c9ad2e4b9"
          }
        },
        "61b053262bc946c2af423b454f126d8e": {
          "model_module": "@jupyter-widgets/controls",
          "model_name": "HTMLModel",
          "state": {
            "_view_name": "HTMLView",
            "style": "IPY_MODEL_62b0b9185cda42e99742f563389a0c30",
            "_dom_classes": [],
            "description": "",
            "_model_name": "HTMLModel",
            "placeholder": "​",
            "_view_module": "@jupyter-widgets/controls",
            "_model_module_version": "1.5.0",
            "value": " 11314/? [00:27&lt;00:00, 405.75it/s]",
            "_view_count": null,
            "_view_module_version": "1.5.0",
            "description_tooltip": null,
            "_model_module": "@jupyter-widgets/controls",
            "layout": "IPY_MODEL_14e5c61a7e944dc18755c046ec5c89ca"
          }
        },
        "3fe2a748b42b4d2688369f1f303ef9d5": {
          "model_module": "@jupyter-widgets/controls",
          "model_name": "ProgressStyleModel",
          "state": {
            "_view_name": "StyleView",
            "_model_name": "ProgressStyleModel",
            "description_width": "initial",
            "_view_module": "@jupyter-widgets/base",
            "_model_module_version": "1.5.0",
            "_view_count": null,
            "_view_module_version": "1.2.0",
            "bar_color": null,
            "_model_module": "@jupyter-widgets/controls"
          }
        },
        "70ae3bd0dc674d17b088d05c9ad2e4b9": {
          "model_module": "@jupyter-widgets/base",
          "model_name": "LayoutModel",
          "state": {
            "_view_name": "LayoutView",
            "grid_template_rows": null,
            "right": null,
            "justify_content": null,
            "_view_module": "@jupyter-widgets/base",
            "overflow": null,
            "_model_module_version": "1.2.0",
            "_view_count": null,
            "flex_flow": null,
            "width": null,
            "min_width": null,
            "border": null,
            "align_items": null,
            "bottom": null,
            "_model_module": "@jupyter-widgets/base",
            "top": null,
            "grid_column": null,
            "overflow_y": null,
            "overflow_x": null,
            "grid_auto_flow": null,
            "grid_area": null,
            "grid_template_columns": null,
            "flex": null,
            "_model_name": "LayoutModel",
            "justify_items": null,
            "grid_row": null,
            "max_height": null,
            "align_content": null,
            "visibility": null,
            "align_self": null,
            "height": null,
            "min_height": null,
            "padding": null,
            "grid_auto_rows": null,
            "grid_gap": null,
            "max_width": null,
            "order": null,
            "_view_module_version": "1.2.0",
            "grid_template_areas": null,
            "object_position": null,
            "object_fit": null,
            "grid_auto_columns": null,
            "margin": null,
            "display": null,
            "left": null
          }
        },
        "62b0b9185cda42e99742f563389a0c30": {
          "model_module": "@jupyter-widgets/controls",
          "model_name": "DescriptionStyleModel",
          "state": {
            "_view_name": "StyleView",
            "_model_name": "DescriptionStyleModel",
            "description_width": "",
            "_view_module": "@jupyter-widgets/base",
            "_model_module_version": "1.5.0",
            "_view_count": null,
            "_view_module_version": "1.2.0",
            "_model_module": "@jupyter-widgets/controls"
          }
        },
        "14e5c61a7e944dc18755c046ec5c89ca": {
          "model_module": "@jupyter-widgets/base",
          "model_name": "LayoutModel",
          "state": {
            "_view_name": "LayoutView",
            "grid_template_rows": null,
            "right": null,
            "justify_content": null,
            "_view_module": "@jupyter-widgets/base",
            "overflow": null,
            "_model_module_version": "1.2.0",
            "_view_count": null,
            "flex_flow": null,
            "width": null,
            "min_width": null,
            "border": null,
            "align_items": null,
            "bottom": null,
            "_model_module": "@jupyter-widgets/base",
            "top": null,
            "grid_column": null,
            "overflow_y": null,
            "overflow_x": null,
            "grid_auto_flow": null,
            "grid_area": null,
            "grid_template_columns": null,
            "flex": null,
            "_model_name": "LayoutModel",
            "justify_items": null,
            "grid_row": null,
            "max_height": null,
            "align_content": null,
            "visibility": null,
            "align_self": null,
            "height": null,
            "min_height": null,
            "padding": null,
            "grid_auto_rows": null,
            "grid_gap": null,
            "max_width": null,
            "order": null,
            "_view_module_version": "1.2.0",
            "grid_template_areas": null,
            "object_position": null,
            "object_fit": null,
            "grid_auto_columns": null,
            "margin": null,
            "display": null,
            "left": null
          }
        }
      }
    }
  },
  "cells": [
    {
      "cell_type": "markdown",
      "metadata": {
        "id": "KGMHzNQQEm-u"
      },
      "source": [
        "Сейчас будет много копипаста с тетрадки семинара)"
      ]
    },
    {
      "cell_type": "code",
      "metadata": {
        "id": "jcpF3Fn79bqY"
      },
      "source": [
        "!pip install nltk"
      ],
      "execution_count": null,
      "outputs": []
    },
    {
      "cell_type": "code",
      "metadata": {
        "id": "ONW1vJ919hEJ"
      },
      "source": [
        "!pip install spacy"
      ],
      "execution_count": null,
      "outputs": []
    },
    {
      "cell_type": "code",
      "metadata": {
        "id": "GpIsCv5m9_A6"
      },
      "source": [
        "!pip  install pyLDAvis"
      ],
      "execution_count": null,
      "outputs": []
    },
    {
      "cell_type": "code",
      "metadata": {
        "id": "Filfs7op8WkY"
      },
      "source": [
        "import nltk; nltk.download('stopwords')\n",
        "\n",
        "!python3 -m spacy download en"
      ],
      "execution_count": null,
      "outputs": []
    },
    {
      "cell_type": "code",
      "metadata": {
        "id": "SsxRoSGK9zBL"
      },
      "source": [
        "import re\n",
        "import numpy as np\n",
        "import pandas as pd\n",
        "from pprint import pprint\n",
        "\n",
        "# Gensim\n",
        "import gensim\n",
        "import gensim.corpora as corpora\n",
        "from gensim.utils import simple_preprocess\n",
        "from gensim.models import CoherenceModel\n",
        "\n",
        "# spacy for lemmatization\n",
        "import spacy\n",
        "\n",
        "# Plotting tools\n",
        "import pyLDAvis\n",
        "import pyLDAvis.gensim  # don't skip this\n",
        "import matplotlib.pyplot as plt\n",
        "%matplotlib inline\n",
        "\n",
        "# Enable logging for gensim - optional\n",
        "import logging\n",
        "logging.basicConfig(format='%(asctime)s : %(levelname)s : %(message)s', level=logging.ERROR)\n",
        "\n",
        "import warnings\n",
        "warnings.filterwarnings(\"ignore\",category=DeprecationWarning)"
      ],
      "execution_count": 5,
      "outputs": []
    },
    {
      "cell_type": "code",
      "metadata": {
        "id": "jYWmtv1M91nu"
      },
      "source": [
        "from nltk.corpus import stopwords\n",
        "stop_words = stopwords.words('english')\n",
        "stop_words.extend(['from', 'subject', 're', 'edu', 'use'])"
      ],
      "execution_count": 6,
      "outputs": []
    },
    {
      "cell_type": "code",
      "metadata": {
        "id": "fAyh7LTgAVch",
        "outputId": "13e26717-314c-4c10-9c0b-e2db26849ff3",
        "colab": {
          "base_uri": "https://localhost:8080/",
          "height": 306
        }
      },
      "source": [
        "df = pd.read_json('https://raw.githubusercontent.com/selva86/datasets/master/newsgroups.json')\n",
        "print(df.target_names.unique())\n",
        "df.head()"
      ],
      "execution_count": 17,
      "outputs": [
        {
          "output_type": "stream",
          "text": [
            "['rec.autos' 'comp.sys.mac.hardware' 'comp.graphics' 'sci.space'\n",
            " 'talk.politics.guns' 'sci.med' 'comp.sys.ibm.pc.hardware'\n",
            " 'comp.os.ms-windows.misc' 'rec.motorcycles' 'talk.religion.misc'\n",
            " 'misc.forsale' 'alt.atheism' 'sci.electronics' 'comp.windows.x'\n",
            " 'rec.sport.hockey' 'rec.sport.baseball' 'soc.religion.christian'\n",
            " 'talk.politics.mideast' 'talk.politics.misc' 'sci.crypt']\n"
          ],
          "name": "stdout"
        },
        {
          "output_type": "execute_result",
          "data": {
            "text/html": [
              "<div>\n",
              "<style scoped>\n",
              "    .dataframe tbody tr th:only-of-type {\n",
              "        vertical-align: middle;\n",
              "    }\n",
              "\n",
              "    .dataframe tbody tr th {\n",
              "        vertical-align: top;\n",
              "    }\n",
              "\n",
              "    .dataframe thead th {\n",
              "        text-align: right;\n",
              "    }\n",
              "</style>\n",
              "<table border=\"1\" class=\"dataframe\">\n",
              "  <thead>\n",
              "    <tr style=\"text-align: right;\">\n",
              "      <th></th>\n",
              "      <th>content</th>\n",
              "      <th>target</th>\n",
              "      <th>target_names</th>\n",
              "    </tr>\n",
              "  </thead>\n",
              "  <tbody>\n",
              "    <tr>\n",
              "      <th>0</th>\n",
              "      <td>From: lerxst@wam.umd.edu (where's my thing)\\nS...</td>\n",
              "      <td>7</td>\n",
              "      <td>rec.autos</td>\n",
              "    </tr>\n",
              "    <tr>\n",
              "      <th>1</th>\n",
              "      <td>From: guykuo@carson.u.washington.edu (Guy Kuo)...</td>\n",
              "      <td>4</td>\n",
              "      <td>comp.sys.mac.hardware</td>\n",
              "    </tr>\n",
              "    <tr>\n",
              "      <th>2</th>\n",
              "      <td>From: twillis@ec.ecn.purdue.edu (Thomas E Will...</td>\n",
              "      <td>4</td>\n",
              "      <td>comp.sys.mac.hardware</td>\n",
              "    </tr>\n",
              "    <tr>\n",
              "      <th>3</th>\n",
              "      <td>From: jgreen@amber (Joe Green)\\nSubject: Re: W...</td>\n",
              "      <td>1</td>\n",
              "      <td>comp.graphics</td>\n",
              "    </tr>\n",
              "    <tr>\n",
              "      <th>4</th>\n",
              "      <td>From: jcm@head-cfa.harvard.edu (Jonathan McDow...</td>\n",
              "      <td>14</td>\n",
              "      <td>sci.space</td>\n",
              "    </tr>\n",
              "  </tbody>\n",
              "</table>\n",
              "</div>"
            ],
            "text/plain": [
              "                                             content  ...           target_names\n",
              "0  From: lerxst@wam.umd.edu (where's my thing)\\nS...  ...              rec.autos\n",
              "1  From: guykuo@carson.u.washington.edu (Guy Kuo)...  ...  comp.sys.mac.hardware\n",
              "2  From: twillis@ec.ecn.purdue.edu (Thomas E Will...  ...  comp.sys.mac.hardware\n",
              "3  From: jgreen@amber (Joe Green)\\nSubject: Re: W...  ...          comp.graphics\n",
              "4  From: jcm@head-cfa.harvard.edu (Jonathan McDow...  ...              sci.space\n",
              "\n",
              "[5 rows x 3 columns]"
            ]
          },
          "metadata": {
            "tags": []
          },
          "execution_count": 17
        }
      ]
    },
    {
      "cell_type": "markdown",
      "metadata": {
        "id": "iFYYdWG4BPQ1"
      },
      "source": [
        "Чистка даты"
      ]
    },
    {
      "cell_type": "code",
      "metadata": {
        "id": "3_DJRWg8BGsW",
        "outputId": "8e6a73f3-b5f6-4c45-a82f-b575982ac50b",
        "colab": {
          "base_uri": "https://localhost:8080/",
          "height": 187
        }
      },
      "source": [
        "# Convert to list\n",
        "data = df.content.values.tolist()\n",
        "\n",
        "# Remove Emails\n",
        "data = [re.sub('\\S*@\\S*\\s?', '', sent) for sent in data]\n",
        "\n",
        "# Remove new line characters\n",
        "data = [re.sub('\\s+', ' ', sent) for sent in data]\n",
        "\n",
        "# Remove distracting single quotes\n",
        "data = [re.sub(\"\\'\", \"\", sent) for sent in data]\n",
        "\n",
        "pprint(data[:1])"
      ],
      "execution_count": 8,
      "outputs": [
        {
          "output_type": "stream",
          "text": [
            "['From: (wheres my thing) Subject: WHAT car is this!? Nntp-Posting-Host: '\n",
            " 'rac3.wam.umd.edu Organization: University of Maryland, College Park Lines: '\n",
            " '15 I was wondering if anyone out there could enlighten me on this car I saw '\n",
            " 'the other day. It was a 2-door sports car, looked to be from the late 60s/ '\n",
            " 'early 70s. It was called a Bricklin. The doors were really small. In '\n",
            " 'addition, the front bumper was separate from the rest of the body. This is '\n",
            " 'all I know. If anyone can tellme a model name, engine specs, years of '\n",
            " 'production, where this car is made, history, or whatever info you have on '\n",
            " 'this funky looking car, please e-mail. Thanks, - IL ---- brought to you by '\n",
            " 'your neighborhood Lerxst ---- ']\n"
          ],
          "name": "stdout"
        }
      ]
    },
    {
      "cell_type": "code",
      "metadata": {
        "id": "vE4tBFnlBa_v",
        "outputId": "804a454f-522f-4244-9a9f-80bf76fcde0b",
        "colab": {
          "base_uri": "https://localhost:8080/",
          "height": 54
        }
      },
      "source": [
        "#tokenize\n",
        "\n",
        "def sent_to_words(sentences):\n",
        "    for sentence in sentences:\n",
        "        yield(gensim.utils.simple_preprocess(str(sentence), deacc=True))  # deacc=True removes punctuations\n",
        "\n",
        "data_words = list(sent_to_words(data))\n",
        "\n",
        "print(data_words[:1])"
      ],
      "execution_count": 9,
      "outputs": [
        {
          "output_type": "stream",
          "text": [
            "[['from', 'wheres', 'my', 'thing', 'subject', 'what', 'car', 'is', 'this', 'nntp', 'posting', 'host', 'rac', 'wam', 'umd', 'edu', 'organization', 'university', 'of', 'maryland', 'college', 'park', 'lines', 'was', 'wondering', 'if', 'anyone', 'out', 'there', 'could', 'enlighten', 'me', 'on', 'this', 'car', 'saw', 'the', 'other', 'day', 'it', 'was', 'door', 'sports', 'car', 'looked', 'to', 'be', 'from', 'the', 'late', 'early', 'it', 'was', 'called', 'bricklin', 'the', 'doors', 'were', 'really', 'small', 'in', 'addition', 'the', 'front', 'bumper', 'was', 'separate', 'from', 'the', 'rest', 'of', 'the', 'body', 'this', 'is', 'all', 'know', 'if', 'anyone', 'can', 'tellme', 'model', 'name', 'engine', 'specs', 'years', 'of', 'production', 'where', 'this', 'car', 'is', 'made', 'history', 'or', 'whatever', 'info', 'you', 'have', 'on', 'this', 'funky', 'looking', 'car', 'please', 'mail', 'thanks', 'il', 'brought', 'to', 'you', 'by', 'your', 'neighborhood', 'lerxst']]\n"
          ],
          "name": "stdout"
        }
      ]
    },
    {
      "cell_type": "markdown",
      "metadata": {
        "id": "12TfuXp2FBHG"
      },
      "source": [
        "программа, которая нам руками будет возвращать N-число самых частых биграмм в тексте"
      ]
    },
    {
      "cell_type": "code",
      "metadata": {
        "id": "TGTWQtPCCjo_"
      },
      "source": [
        "bigrams = [b for l in data_words for b in zip(l[:-1], l[1:])]\n",
        "freq = nltk.FreqDist(bigrams) #computes freq of occurrence\n",
        "fdist = freq.keys() # sorted according to freq"
      ],
      "execution_count": 10,
      "outputs": []
    },
    {
      "cell_type": "code",
      "metadata": {
        "id": "hqxJzKq5B07B",
        "outputId": "49b65695-00af-4e42-ea23-701f6d376515",
        "colab": {
          "base_uri": "https://localhost:8080/",
          "height": 88
        }
      },
      "source": [
        "# Build the bigram and trigram models\n",
        "bigram = gensim.models.Phrases(data_words, min_count=5, threshold=100) # higher threshold fewer phrases.\n",
        "trigram = gensim.models.Phrases(bigram[data_words], threshold=100)  \n",
        "\n",
        "# Faster way to get a sentence clubbed as a trigram/bigram\n",
        "bigram_mod = gensim.models.phrases.Phraser(bigram)\n",
        "trigram_mod = gensim.models.phrases.Phraser(trigram)\n",
        "\n",
        "# See trigram example\n",
        "print(trigram_mod[bigram_mod[data_words[0]]])"
      ],
      "execution_count": 11,
      "outputs": [
        {
          "output_type": "stream",
          "text": [
            "/usr/local/lib/python3.6/dist-packages/gensim/models/phrases.py:598: UserWarning: For a faster implementation, use the gensim.models.phrases.Phraser class\n",
            "  warnings.warn(\"For a faster implementation, use the gensim.models.phrases.Phraser class\")\n"
          ],
          "name": "stderr"
        },
        {
          "output_type": "stream",
          "text": [
            "['from', 'wheres', 'my', 'thing', 'subject', 'what', 'car', 'is', 'this', 'nntp_posting_host', 'rac_wam_umd_edu', 'organization', 'university', 'of', 'maryland_college_park', 'lines', 'was', 'wondering', 'if', 'anyone', 'out', 'there', 'could', 'enlighten', 'me', 'on', 'this', 'car', 'saw', 'the', 'other', 'day', 'it', 'was', 'door', 'sports', 'car', 'looked', 'to', 'be', 'from', 'the', 'late', 'early', 'it', 'was', 'called', 'bricklin', 'the', 'doors', 'were', 'really', 'small', 'in', 'addition', 'the', 'front_bumper', 'was', 'separate', 'from', 'the', 'rest', 'of', 'the', 'body', 'this', 'is', 'all', 'know', 'if', 'anyone', 'can', 'tellme', 'model', 'name', 'engine', 'specs', 'years', 'of', 'production', 'where', 'this', 'car', 'is', 'made', 'history', 'or', 'whatever', 'info', 'you', 'have', 'on', 'this', 'funky', 'looking', 'car', 'please', 'mail', 'thanks', 'il', 'brought', 'to', 'you', 'by', 'your', 'neighborhood', 'lerxst']\n"
          ],
          "name": "stdout"
        }
      ]
    },
    {
      "cell_type": "code",
      "metadata": {
        "id": "BLY1GmA0BbmB"
      },
      "source": [
        "def remove_stopwords(texts):\n",
        "    return [[word for word in simple_preprocess(str(doc)) if word not in stop_words] for doc in texts]\n",
        "\n",
        "def make_bigrams(texts):\n",
        "    return [bigram_mod[doc] for doc in texts]\n",
        "\n",
        "def make_trigrams(texts):\n",
        "    return [trigram_mod[bigram_mod[doc]] for doc in texts]\n",
        "\n",
        "def lemmatization(texts, allowed_postags=['NOUN', 'ADJ', 'VERB', 'ADV']):\n",
        "    \"\"\"https://spacy.io/api/annotation\"\"\"\n",
        "    texts_out = []\n",
        "    for sent in texts:\n",
        "        doc = nlp(\" \".join(sent)) \n",
        "        texts_out.append([token.lemma_ for token in doc if token.pos_ in allowed_postags])\n",
        "    return texts_out"
      ],
      "execution_count": 12,
      "outputs": []
    },
    {
      "cell_type": "code",
      "metadata": {
        "id": "rE1F6oMECSvm",
        "outputId": "f66acd6c-93e0-4227-fff1-b2c70b098700",
        "colab": {
          "base_uri": "https://localhost:8080/",
          "height": 54
        }
      },
      "source": [
        "# Remove Stop Words\n",
        "data_words_nostops = remove_stopwords(data_words)\n",
        "\n",
        "# Form Bigrams\n",
        "data_words_bigrams = make_bigrams(data_words_nostops)\n",
        "\n",
        "# Initialize spacy 'en' model, keeping only tagger component (for efficiency)\n",
        "# python3 -m spacy download en\n",
        "nlp = spacy.load('en', disable=['parser', 'ner'])\n",
        "\n",
        "# Do lemmatization keeping only noun, adj, vb, adv\n",
        "data_lemmatized = lemmatization(data_words_bigrams, allowed_postags=['NOUN', 'ADJ', 'VERB', 'ADV'])\n",
        "\n",
        "print(data_lemmatized[:1])"
      ],
      "execution_count": 13,
      "outputs": [
        {
          "output_type": "stream",
          "text": [
            "[['where', 'thing', 'car', 'nntp_poste', 'host', 'park', 'line', 'wonder', 'could', 'enlighten', 'car', 'see', 'day', 'door', 'sport', 'car', 'look', 'late', 'early', 'call', 'bricklin', 'door', 'really', 'small', 'addition', 'separate', 'rest', 'body', 'know', 'tellme', 'model', 'name', 'engine', 'year', 'production', 'car', 'make', 'history', 'info', 'funky', 'look', 'car', 'mail', 'thank', 'bring', 'neighborhood', 'lerxst']]\n"
          ],
          "name": "stdout"
        }
      ]
    },
    {
      "cell_type": "code",
      "metadata": {
        "id": "H0Wa02IHC59A",
        "outputId": "407d2332-8c20-422b-a676-7cf8581f46f7",
        "colab": {
          "base_uri": "https://localhost:8080/",
          "height": 54
        }
      },
      "source": [
        "# Create Dictionary\n",
        "id2word = corpora.Dictionary(data_lemmatized)\n",
        "\n",
        "# Create Corpus\n",
        "texts = data_lemmatized\n",
        "\n",
        "# Term Document Frequency\n",
        "corpus = [id2word.doc2bow(text) for text in texts]\n",
        "\n",
        "# View\n",
        "print(corpus[:1])"
      ],
      "execution_count": 14,
      "outputs": [
        {
          "output_type": "stream",
          "text": [
            "[[(0, 1), (1, 1), (2, 1), (3, 1), (4, 1), (5, 5), (6, 1), (7, 1), (8, 2), (9, 1), (10, 1), (11, 1), (12, 1), (13, 1), (14, 1), (15, 1), (16, 1), (17, 1), (18, 1), (19, 1), (20, 2), (21, 1), (22, 1), (23, 1), (24, 1), (25, 1), (26, 1), (27, 1), (28, 1), (29, 1), (30, 1), (31, 1), (32, 1), (33, 1), (34, 1), (35, 1), (36, 1), (37, 1), (38, 1), (39, 1), (40, 1)]]\n"
          ],
          "name": "stdout"
        }
      ]
    },
    {
      "cell_type": "markdown",
      "metadata": {
        "id": "xC81CRa8F4Dw"
      },
      "source": [
        "Mallen, который смог. Будь как маллет."
      ]
    },
    {
      "cell_type": "code",
      "metadata": {
        "id": "ROQqpEFfCd8y"
      },
      "source": [
        "!unzip /content/mallet-2.0.8.zip"
      ],
      "execution_count": null,
      "outputs": []
    },
    {
      "cell_type": "code",
      "metadata": {
        "id": "4EKcaw__DStc",
        "outputId": "ed4e6379-5fb3-44f2-dbd8-c72d54911fbd",
        "colab": {
          "base_uri": "https://localhost:8080/",
          "height": 71
        }
      },
      "source": [
        "mallet_path = '/content/mallet-2.0.8/bin/mallet' # update this path\n",
        "ldamallet = gensim.models.wrappers.LdaMallet(mallet_path, corpus=corpus, num_topics=20, id2word=id2word)"
      ],
      "execution_count": 39,
      "outputs": [
        {
          "output_type": "stream",
          "text": [
            "/usr/local/lib/python3.6/dist-packages/smart_open/smart_open_lib.py:252: UserWarning: This function is deprecated, use smart_open.open instead. See the migration notes for details: https://github.com/RaRe-Technologies/smart_open/blob/master/README.rst#migrating-to-the-new-open-function\n",
            "  'See the migration notes for details: %s' % _MIGRATION_NOTES_URL\n"
          ],
          "name": "stderr"
        }
      ]
    },
    {
      "cell_type": "code",
      "metadata": {
        "id": "eEYmWpOREaDS",
        "outputId": "cdcb088b-431c-43f9-db65-38480cdcc529",
        "colab": {
          "base_uri": "https://localhost:8080/",
          "height": 1000
        }
      },
      "source": [
        "# Show Topics\n",
        "pprint(ldamallet.show_topics(formatted=False))\n",
        "\n",
        "# Compute Coherence Score\n",
        "coherence_model_ldamallet = CoherenceModel(model=ldamallet, texts=data_lemmatized, dictionary=id2word, coherence='c_v')\n",
        "coherence_ldamallet = coherence_model_ldamallet.get_coherence()\n",
        "print('\\nCoherence Score: ', coherence_ldamallet)"
      ],
      "execution_count": 40,
      "outputs": [
        {
          "output_type": "stream",
          "text": [
            "[(4,\n",
            "  [('gun', 0.027243589743589744),\n",
            "   ('law', 0.018547008547008546),\n",
            "   ('people', 0.01769230769230769),\n",
            "   ('state', 0.01628205128205128),\n",
            "   ('crime', 0.011175213675213675),\n",
            "   ('make', 0.010662393162393162),\n",
            "   ('case', 0.0105982905982906),\n",
            "   ('weapon', 0.01014957264957265),\n",
            "   ('kill', 0.00985042735042735),\n",
            "   ('firearm', 0.008098290598290599)]),\n",
            " (2,\n",
            "  [('ax', 0.18779604346614656),\n",
            "   ('line', 0.15694781674163116),\n",
            "   ('max', 0.15133542968594516),\n",
            "   ('host', 0.1005453170401624),\n",
            "   ('nntp_poste', 0.04239143414401146),\n",
            "   ('reply', 0.02579309795804641),\n",
            "   ('organization', 0.02193209409704255),\n",
            "   ('ca', 0.018548740198224733),\n",
            "   ('nntp_posting', 0.008916132627472834),\n",
            "   ('distribution_usa', 0.008597699319348805)]),\n",
            " (5,\n",
            "  [('people', 0.023467952581876634),\n",
            "   ('government', 0.020474181233674903),\n",
            "   ('state', 0.013542294554952783),\n",
            "   ('country', 0.010689170182841068),\n",
            "   ('israeli', 0.010387783805505325),\n",
            "   ('war', 0.009985935302390999),\n",
            "   ('attack', 0.009021498894916616),\n",
            "   ('force', 0.008519188266023709),\n",
            "   ('world', 0.008398633715089412),\n",
            "   ('land', 0.007976692786819369)]),\n",
            " (13,\n",
            "  [('line', 0.01977415434474377),\n",
            "   ('power', 0.01914117885355479),\n",
            "   ('current', 0.011165687664573628),\n",
            "   ('ground', 0.010558031193032206),\n",
            "   ('work', 0.010051650800081021),\n",
            "   ('high', 0.009114847073121329),\n",
            "   ('wire', 0.009114847073121329),\n",
            "   ('light', 0.00870974275876038),\n",
            "   ('water', 0.008481871581932348),\n",
            "   ('low', 0.008102086287218958)]),\n",
            " (10,\n",
            "  [('key', 0.03840170484816196),\n",
            "   ('system', 0.018305807139051677),\n",
            "   ('encryption', 0.01419286094832179),\n",
            "   ('bit', 0.012551944592434736),\n",
            "   ('chip', 0.01206180074587107),\n",
            "   ('technology', 0.011848694725625998),\n",
            "   ('information', 0.011038891848694726),\n",
            "   ('public', 0.010911028236547682),\n",
            "   ('phone', 0.010889717634523175),\n",
            "   ('government', 0.010079914757591901)]),\n",
            " (17,\n",
            "  [('write', 0.24718688153802656),\n",
            "   ('article', 0.17342380548487418),\n",
            "   ('line', 0.11184619734238055),\n",
            "   ('organization', 0.04992931863160871),\n",
            "   ('post', 0.02216567712750919),\n",
            "   ('host', 0.020723777212326832),\n",
            "   ('read', 0.0183206106870229),\n",
            "   ('opinion', 0.014023183488832344),\n",
            "   ('reply', 0.012242013005371784),\n",
            "   ('make', 0.010206389595702572)]),\n",
            " (14,\n",
            "  [('book', 0.025659200453643324),\n",
            "   ('number', 0.011435592099045459),\n",
            "   ('history', 0.011199319535015594),\n",
            "   ('turkish', 0.010254229278896134),\n",
            "   ('today', 0.010041583971269256),\n",
            "   ('find', 0.01001795671486627),\n",
            "   ('armenian', 0.009049239202343825),\n",
            "   ('source', 0.008789339381910972),\n",
            "   ('show', 0.00867120309989604),\n",
            "   ('begin', 0.008647575843493054)]),\n",
            " (7,\n",
            "  [('space', 0.02109167762945071),\n",
            "   ('system', 0.014017986154542906),\n",
            "   ('launch', 0.009273436994543768),\n",
            "   ('project', 0.008065733571998534),\n",
            "   ('include', 0.00726778666781686),\n",
            "   ('technology', 0.007052125342362354),\n",
            "   ('base', 0.006836464016907848),\n",
            "   ('year', 0.006620802691453342),\n",
            "   ('design', 0.006599236558907891),\n",
            "   ('satellite', 0.006383575233453385)]),\n",
            " (16,\n",
            "  [('window', 0.02401472680110451),\n",
            "   ('file', 0.01728725629654422),\n",
            "   ('program', 0.01691908626893147),\n",
            "   ('image', 0.016701531252614844),\n",
            "   ('version', 0.015613756171031713),\n",
            "   ('display', 0.012902685967701447),\n",
            "   ('application', 0.012651660948874571),\n",
            "   ('run', 0.01238390092879257),\n",
            "   ('software', 0.012233285917496443),\n",
            "   ('include', 0.011480210861015815)]),\n",
            " (15,\n",
            "  [('car', 0.042206805752481265),\n",
            "   ('buy', 0.023293498075754506),\n",
            "   ('price', 0.01982479238403889),\n",
            "   ('sell', 0.018887988657079198),\n",
            "   ('sale', 0.016406724731618392),\n",
            "   ('bike', 0.016052258456552563),\n",
            "   ('ride', 0.011266963743163865),\n",
            "   ('drive', 0.010355479035851732),\n",
            "   ('engine', 0.009595908446424955),\n",
            "   ('speed', 0.008026129228276281)])]\n",
            "\n",
            "Coherence Score:  0.5428010667335089\n"
          ],
          "name": "stdout"
        }
      ]
    },
    {
      "cell_type": "markdown",
      "metadata": {
        "id": "Uhwy16jWD9-6"
      },
      "source": [
        "## Тренеруем нашу модель"
      ]
    },
    {
      "cell_type": "markdown",
      "metadata": {
        "id": "zMJm4yc4H15W"
      },
      "source": [
        "Надо посчитать лучшее количество топиков через функцию. Шаг = 5, потому что коллаб слишком тупой, а на моем компе не работает spacy :D\n"
      ]
    },
    {
      "cell_type": "code",
      "metadata": {
        "id": "C-skluUG52ma"
      },
      "source": [
        "from tqdm.auto import tqdm"
      ],
      "execution_count": 69,
      "outputs": []
    },
    {
      "cell_type": "code",
      "metadata": {
        "id": "7HM9vzC8zmN2"
      },
      "source": [
        "def opt_topics(n, corpus, id2word, data_lemmatized):\n",
        "  groups_count = []\n",
        "  for number in tqdm(n):\n",
        "    lda_model = gensim.models.ldamodel.LdaModel(corpus=corpus,\n",
        "                                            id2word=id2word,\n",
        "                                            num_topics=number, \n",
        "                                            random_state=100,\n",
        "                                            update_every=1,\n",
        "                                            chunksize=100,\n",
        "                                            passes=10,\n",
        "                                            alpha='auto',\n",
        "                                            per_word_topics=True)\n",
        "  \n",
        "    coherence_model_lda = CoherenceModel(model=lda_model, texts=data_lemmatized, dictionary=id2word, coherence='c_v')\n",
        "    coherence_lda = coherence_model_lda.get_coherence()\n",
        "\n",
        "    groups_count.append((coherence_lda, number))\n",
        "  \n",
        "  for pair in groups_count:\n",
        "    print('The number of groups: ', pair[1], ' - ', 'coherence: ', pair[0], '\\n', '--------------------')\n",
        "  \n",
        "  return sorted(groups_count)[-1][1]"
      ],
      "execution_count": 76,
      "outputs": []
    },
    {
      "cell_type": "code",
      "metadata": {
        "id": "NYFAOr6czmLu",
        "outputId": "43e59485-e0da-4b95-8e1d-77ecaa259d59",
        "colab": {
          "base_uri": "https://localhost:8080/",
          "height": 202,
          "referenced_widgets": [
            "cd02039713584e3b9ef718d4f8e3751b",
            "b9f16ff921044ad98d6ecfd4509d1c33",
            "d873bf2d8f794760aa85621e6e7f7fff",
            "c7e1dcc4c66c49f3acde666764a0e42c",
            "c50b8afe5f4c438580c39ef4915fde56",
            "cdc83d8a96a0464d986e7adeba929cb7",
            "75fee7c177cb472497d1fbc94811d8c8",
            "b2ab5f7ed54d417793a45d5aa01ac793"
          ]
        }
      },
      "source": [
        "n = [5, 10, 15, 20]\n",
        "best_topics_count = opt_topics(n, corpus, id2word, data_lemmatized)"
      ],
      "execution_count": 77,
      "outputs": [
        {
          "output_type": "display_data",
          "data": {
            "application/vnd.jupyter.widget-view+json": {
              "model_id": "cd02039713584e3b9ef718d4f8e3751b",
              "version_minor": 0,
              "version_major": 2
            },
            "text/plain": [
              "HBox(children=(FloatProgress(value=0.0, max=4.0), HTML(value='')))"
            ]
          },
          "metadata": {
            "tags": []
          }
        },
        {
          "output_type": "stream",
          "text": [
            "\n",
            "The number of groups:  5  -  coherence:  0.4297369063851419 \n",
            " --------------------\n",
            "The number of groups:  10  -  coherence:  0.4973497938960755 \n",
            " --------------------\n",
            "The number of groups:  15  -  coherence:  0.44582805103485196 \n",
            " --------------------\n",
            "The number of groups:  20  -  coherence:  0.4392813747423439 \n",
            " --------------------\n"
          ],
          "name": "stdout"
        }
      ]
    },
    {
      "cell_type": "markdown",
      "metadata": {
        "id": "MGJb-6HY-9TD"
      },
      "source": [
        "Видно, что 10 топиков показывают лучший результат. Возможно, между 10 и 15 топиками есть и лучше.\n"
      ]
    },
    {
      "cell_type": "code",
      "metadata": {
        "id": "ELxVkv3H-dh_",
        "outputId": "cce2cc82-2fa8-40f7-acba-a2314e031e5a",
        "colab": {
          "base_uri": "https://localhost:8080/",
          "height": 34
        }
      },
      "source": [
        "best_topics_count"
      ],
      "execution_count": 79,
      "outputs": [
        {
          "output_type": "execute_result",
          "data": {
            "text/plain": [
              "10"
            ]
          },
          "metadata": {
            "tags": []
          },
          "execution_count": 79
        }
      ]
    },
    {
      "cell_type": "code",
      "metadata": {
        "id": "q6ABeciD9EoT"
      },
      "source": [
        "lda_model = gensim.models.ldamodel.LdaModel(corpus=corpus,\n",
        "                                           id2word=id2word,\n",
        "                                           num_topics=best_topics_count, \n",
        "                                           random_state=100,\n",
        "                                           update_every=1,\n",
        "                                           chunksize=100,\n",
        "                                           passes=10,\n",
        "                                           alpha='auto',\n",
        "                                           per_word_topics=True)"
      ],
      "execution_count": 80,
      "outputs": []
    },
    {
      "cell_type": "code",
      "metadata": {
        "id": "CTJv9h75CAii"
      },
      "source": [
        "topics = lda_model.show_topics(num_topics=best_topics_count, num_words=10, formatted=False) #беру show_topics, потому что с print_topics не получается сделать кортежи\n",
        "doc_lda = lda_model[corpus] #не знаю зачем эта штука, но она была в семе, хуже не будет)"
      ],
      "execution_count": 124,
      "outputs": []
    },
    {
      "cell_type": "code",
      "metadata": {
        "id": "9ncgQbWICAnB",
        "outputId": "0919ca63-b4a8-4866-dd65-63fc343e9bd9",
        "colab": {
          "base_uri": "https://localhost:8080/",
          "height": 187
        }
      },
      "source": [
        "topics[0][1][:10]"
      ],
      "execution_count": 125,
      "outputs": [
        {
          "output_type": "execute_result",
          "data": {
            "text/plain": [
              "[('team', 0.02816584),\n",
              " ('year', 0.02723164),\n",
              " ('game', 0.025724994),\n",
              " ('play', 0.019548114),\n",
              " ('win', 0.018154599),\n",
              " ('player', 0.014175091),\n",
              " ('run', 0.009828578),\n",
              " ('last', 0.009554995),\n",
              " ('good', 0.0093642585),\n",
              " ('hit', 0.008524719)]"
            ]
          },
          "metadata": {
            "tags": []
          },
          "execution_count": 125
        }
      ]
    },
    {
      "cell_type": "code",
      "metadata": {
        "id": "doLfgR9jMYlg"
      },
      "source": [
        "def d_sorter(d):\n",
        "  list_d = list(d.items())\n",
        "  list_d.sort(key=lambda i: i[1])\n",
        "  return list_d[-1][0]"
      ],
      "execution_count": 238,
      "outputs": []
    },
    {
      "cell_type": "code",
      "metadata": {
        "id": "AtcaptLJOiJK"
      },
      "source": [
        "d_sorter(q)"
      ],
      "execution_count": null,
      "outputs": []
    },
    {
      "cell_type": "code",
      "metadata": {
        "id": "yOcgtH2gOiG7"
      },
      "source": [
        "q = {'a': 1, 'b': 2, 'c': 3}"
      ],
      "execution_count": 232,
      "outputs": []
    },
    {
      "cell_type": "code",
      "metadata": {
        "id": "u9xRbOzDElL6",
        "outputId": "39f21cb4-9c41-4936-bf71-09852b224a5c",
        "colab": {
          "base_uri": "https://localhost:8080/",
          "height": 66,
          "referenced_widgets": [
            "c4527e4fb66b4097ba38835438fbe2c3",
            "db143c6a261d42fab92599dd819057d7",
            "9584fe782efc4f1981b6bf01cc4459a4",
            "61b053262bc946c2af423b454f126d8e",
            "3fe2a748b42b4d2688369f1f303ef9d5",
            "70ae3bd0dc674d17b088d05c9ad2e4b9",
            "62b0b9185cda42e99742f563389a0c30",
            "14e5c61a7e944dc18755c046ec5c89ca"
          ]
        }
      },
      "source": [
        "topics_values = {}\n",
        "\n",
        "#for index, text in enumerate(topics)\n",
        "\n",
        "for index, text in tqdm(enumerate(data_lemmatized)):\n",
        "  topic_value = {}\n",
        "  for topic in topics:\n",
        "    list_of_topic = topic[1]\n",
        "    for word in text: #слово в тексте\n",
        "      for topic in list_of_topic: #кортеж топик-число в списке топиков для этого текста\n",
        "        if word in topic[0]: \n",
        "          try:\n",
        "            topic_value[word] = topic_value[word] + topic[1]\n",
        "          except:\n",
        "            topic_value[word] = topic[1]\n",
        "  try:\n",
        "    n_topic = d_sorter(topic_value)\n",
        "    topics_values[index] = n_topic\n",
        "  except:\n",
        "    topics_values[index] = 'n/a'"
      ],
      "execution_count": 240,
      "outputs": [
        {
          "output_type": "display_data",
          "data": {
            "application/vnd.jupyter.widget-view+json": {
              "model_id": "c4527e4fb66b4097ba38835438fbe2c3",
              "version_minor": 0,
              "version_major": 2
            },
            "text/plain": [
              "HBox(children=(FloatProgress(value=1.0, bar_style='info', max=1.0), HTML(value='')))"
            ]
          },
          "metadata": {
            "tags": []
          }
        },
        {
          "output_type": "stream",
          "text": [
            "\n"
          ],
          "name": "stdout"
        }
      ]
    },
    {
      "cell_type": "code",
      "metadata": {
        "id": "Eei8ZnmsElPC",
        "outputId": "05f806ad-849f-4a0b-c070-0f4bf220ad51",
        "colab": {
          "base_uri": "https://localhost:8080/",
          "height": 1000
        }
      },
      "source": [
        "get_topic_dic(topics)"
      ],
      "execution_count": 243,
      "outputs": [
        {
          "output_type": "execute_result",
          "data": {
            "text/plain": [
              "{'0': {'game': 0.025724994,\n",
              "  'good': 0.0093642585,\n",
              "  'hit': 0.008524719,\n",
              "  'last': 0.009554995,\n",
              "  'play': 0.019548114,\n",
              "  'player': 0.014175091,\n",
              "  'run': 0.009828578,\n",
              "  'team': 0.02816584,\n",
              "  'win': 0.018154599,\n",
              "  'year': 0.02723164},\n",
              " '1': {'back': 0.010807149,\n",
              "  'come': 0.011710706,\n",
              "  'day': 0.012717305,\n",
              "  'first': 0.008184588,\n",
              "  'get': 0.010662511,\n",
              "  'go': 0.021728566,\n",
              "  'say': 0.008744546,\n",
              "  'see': 0.008303262,\n",
              "  'take': 0.01144027,\n",
              "  'time': 0.014948809},\n",
              " '2': {'also': 0.00569999,\n",
              "  'cost': 0.007987364,\n",
              "  'high': 0.0074608973,\n",
              "  'item': 0.0057826536,\n",
              "  'large': 0.005205771,\n",
              "  'low': 0.0067702075,\n",
              "  'research': 0.006973393,\n",
              "  'space': 0.014079927,\n",
              "  'test': 0.0055987528,\n",
              "  'year': 0.0075525735},\n",
              " '3': {'bike': 0.013057647,\n",
              "  'car': 0.032890327,\n",
              "  'drive': 0.021455154,\n",
              "  'engine': 0.008950168,\n",
              "  'light': 0.0088470625,\n",
              "  'power': 0.011179995,\n",
              "  'reality': 0.009504482,\n",
              "  'slave': 0.0106329555,\n",
              "  'speed': 0.008960807,\n",
              "  'wire': 0.01099707},\n",
              " '4': {'ax': 0.090422064,\n",
              "  'di_di': 0.017890058,\n",
              "  'gay': 0.011381511,\n",
              "  'homosexual': 0.012452936,\n",
              "  'homosexuality': 0.0063131927,\n",
              "  'liar': 0.0079754675,\n",
              "  'marry': 0.00654275,\n",
              "  'max': 0.076546,\n",
              "  'taste': 0.008703078,\n",
              "  'tumor': 0.01489767},\n",
              " '5': {'attack': 0.0072508496,\n",
              "  'country': 0.0066613904,\n",
              "  'government': 0.016636087,\n",
              "  'gun': 0.011514384,\n",
              "  'kill': 0.009534485,\n",
              "  'patient': 0.006794719,\n",
              "  'people': 0.013100896,\n",
              "  'public': 0.007321065,\n",
              "  'state': 0.011054139,\n",
              "  'year': 0.0077070007},\n",
              " '6': {'get': 0.010846031,\n",
              "  'host': 0.014635778,\n",
              "  'line': 0.036276303,\n",
              "  'need': 0.010711726,\n",
              "  'problem': 0.012870745,\n",
              "  'system': 0.010247722,\n",
              "  'thank': 0.016783072,\n",
              "  'use': 0.013034693,\n",
              "  'window': 0.009944185,\n",
              "  'work': 0.010754561},\n",
              " '7': {'article': 0.018046787,\n",
              "  'be': 0.014089976,\n",
              "  'know': 0.016005449,\n",
              "  'line': 0.017445853,\n",
              "  'make': 0.01576446,\n",
              "  'may': 0.012104776,\n",
              "  'say': 0.011962455,\n",
              "  'think': 0.015814546,\n",
              "  'would': 0.033091385,\n",
              "  'write': 0.027274108},\n",
              " '8': {'believe': 0.013260977,\n",
              "  'claim': 0.009320526,\n",
              "  'evidence': 0.020913396,\n",
              "  'exist': 0.008820519,\n",
              "  'faith': 0.010473427,\n",
              "  'law': 0.008744213,\n",
              "  'physical': 0.007989353,\n",
              "  'reason': 0.013016073,\n",
              "  'say': 0.010444872,\n",
              "  'sense': 0.010313685},\n",
              " '9': {'available': 0.008713104,\n",
              "  'file': 0.017701035,\n",
              "  'image': 0.008322467,\n",
              "  'include': 0.008140092,\n",
              "  'information': 0.012992497,\n",
              "  'key': 0.020461693,\n",
              "  'program': 0.01818932,\n",
              "  'source': 0.008350408,\n",
              "  'system': 0.009581866,\n",
              "  'use': 0.011966495}}"
            ]
          },
          "metadata": {
            "tags": []
          },
          "execution_count": 243
        }
      ]
    },
    {
      "cell_type": "code",
      "metadata": {
        "id": "bl7GrX-cC2_Z"
      },
      "source": [
        "import random"
      ],
      "execution_count": 110,
      "outputs": []
    },
    {
      "cell_type": "code",
      "metadata": {
        "id": "-UPpH-Z49Eq3"
      },
      "source": [
        ""
      ],
      "execution_count": 242,
      "outputs": []
    },
    {
      "cell_type": "code",
      "metadata": {
        "id": "Z2tmafgc9EtT"
      },
      "source": [
        ""
      ],
      "execution_count": 173,
      "outputs": []
    }
  ]
}